{
  "nbformat": 4,
  "nbformat_minor": 0,
  "metadata": {
    "colab": {
      "provenance": []
    },
    "kernelspec": {
      "name": "python3",
      "display_name": "Python 3"
    },
    "language_info": {
      "name": "python"
    }
  },
  "cells": [
    {
      "cell_type": "code",
      "source": [
        "# 1. 라이브러리 불러오기\n",
        "import torch\n",
        "import torch.nn as nn\n",
        "import torch.nn.functional as F\n",
        "import torch.optim as optim\n",
        "from torchvision import datasets, transforms\n",
        "from torch.utils.data import DataLoader"
      ],
      "metadata": {
        "id": "Jkxvd5tvwoWq"
      },
      "execution_count": null,
      "outputs": []
    },
    {
      "cell_type": "code",
      "execution_count": null,
      "metadata": {
        "id": "FUKGSNCxq2UH"
      },
      "outputs": [],
      "source": [
        "# 2. 모델 설정\n",
        "class myCNN(nn.Module): # nn.Module 상속받음\n",
        "    def __init__(self):\n",
        "        super(myCNN, self).__init__()\n",
        "        self.cnn_layer = nn.Sequential(\n",
        "            nn.Conv2d(1, 16, 5 , padding=2), # 28×28 -> 28×28\n",
        "            nn.ReLU(),\n",
        "\n",
        "            nn.Conv2d(16, 32, 5, padding=2), # 28×28 -> 28×28\n",
        "            nn.ReLU(),\n",
        "            nn.MaxPool2d(2, 2), # 28×28 -> 14×14\n",
        "\n",
        "            nn.Conv2d(32, 64, 5, padding=2), # 14×14 -> 14×14\n",
        "            nn.ReLU(),\n",
        "            nn.MaxPool2d(2, 2) # 14×14 -> 7×7\n",
        "        )\n",
        "        self.fc_layer = nn.Sequential(\n",
        "            nn.Linear(64*7*7, 100),\n",
        "            nn.ReLU(),\n",
        "            nn.Linear(100, 10)\n",
        "        )\n",
        "\n",
        "    def forward(self, x):\n",
        "        out = self.cnn_layer(x)\n",
        "        out = out.view(batch_size, -1)\n",
        "        out = self.fc_layer(out)\n",
        "        return out"
      ]
    },
    {
      "cell_type": "code",
      "source": [
        "# 3. 하이퍼파라미터 설정\n",
        "learning_rate = 0.01\n",
        "num_epoch = 50\n",
        "batch_size = 100"
      ],
      "metadata": {
        "id": "MzQFWTzlwQVR"
      },
      "execution_count": null,
      "outputs": []
    },
    {
      "cell_type": "code",
      "source": [
        "# 3. 데이터 전처리 및 로더 설정\n",
        "transform = transforms.Compose([\n",
        "    transforms.ToTensor(),  # [0, 255] -> [0.0, 1.0]\n",
        "])\n",
        "\n",
        "train_data = datasets.MNIST(root='./data', train=True, download=True, transform=transform)\n",
        "test_data  = datasets.MNIST(root='./data', train=False, download=True, transform=transform)\n",
        "\n",
        "train_loader = DataLoader(dataset=train_data, batch_size=batch_size, shuffle=True)\n",
        "test_loader  = DataLoader(dataset=test_data, batch_size=batch_size, shuffle=False)"
      ],
      "metadata": {
        "colab": {
          "base_uri": "https://localhost:8080/"
        },
        "id": "R-xpOUGiwkz5",
        "outputId": "553d1b99-81dd-40b9-ac44-d6f992060c35"
      },
      "execution_count": null,
      "outputs": [
        {
          "output_type": "stream",
          "name": "stderr",
          "text": [
            "100%|██████████| 9.91M/9.91M [00:00<00:00, 55.6MB/s]\n",
            "100%|██████████| 28.9k/28.9k [00:00<00:00, 1.70MB/s]\n",
            "100%|██████████| 1.65M/1.65M [00:00<00:00, 12.8MB/s]\n",
            "100%|██████████| 4.54k/4.54k [00:00<00:00, 7.06MB/s]\n"
          ]
        }
      ]
    },
    {
      "cell_type": "code",
      "source": [
        "# 4. loss 함수 및 optimizer 설정\n",
        "device = torch.device('cuda' if torch.cuda.is_available() else 'cpu')\n",
        "\n",
        "model = myCNN().to(device)\n",
        "\n",
        "# loss function, optimizer 선언\n",
        "loss_func = nn.CrossEntropyLoss()\n",
        "optimizer = torch.optim.SGD(model.parameters(), lr=learning_rate)"
      ],
      "metadata": {
        "id": "QxirzmSrtEq3"
      },
      "execution_count": null,
      "outputs": []
    },
    {
      "cell_type": "code",
      "source": [
        "# 5. Accuracy 함수 정의\n",
        "def EstimateAccuracy(dloader, imodel):\n",
        "    correct = 0\n",
        "    total = 0\n",
        "    for image, label in dloader:\n",
        "        x = image.to(device)  ## back prop. 안하고, forward prop. 만하겠다.\n",
        "        y_ = label.to(device)\n",
        "\n",
        "        output = imodel.forward(x)\n",
        "        _, output_index= torch.max(output, 1)\n",
        "\n",
        "        total += label.size(0)\n",
        "        correct += (output_index== y_).sum().float()\n",
        "\n",
        "    print(\"Accuracy of Test Data: {}\".format(100*correct/total))\n",
        "    return 100*correct/total"
      ],
      "metadata": {
        "id": "F5CDFrlTtnzd"
      },
      "execution_count": null,
      "outputs": []
    },
    {
      "cell_type": "code",
      "source": [
        "# 6. 훈련\n",
        "loss_arr= []\n",
        "accu_arr= []\n",
        "for epoch in range(num_epoch):\n",
        "    for image, label in train_loader:  # batch_size만큼\n",
        "        x = image.to(device)\n",
        "        y_ = label.to(device)\n",
        "\n",
        "        optimizer.zero_grad()\n",
        "        output=model.forward(x)\n",
        "        loss = loss_func(output, y_)\n",
        "        loss.backward()\n",
        "        optimizer.step()\n",
        "\n",
        "    if epoch % 10 == 0:\n",
        "        print(f\"Epoch {epoch}, Loss: {loss.item():.4f}\")\n",
        "        accuracy = EstimateAccuracy(test_loader, model)\n",
        "        loss_arr.append(loss.item())\n",
        "        accu_arr.append(accuracy)\n"
      ],
      "metadata": {
        "colab": {
          "base_uri": "https://localhost:8080/"
        },
        "id": "CF7W-tiZvAUg",
        "outputId": "20156f78-8626-466b-ffec-0bb5fe04f9b0"
      },
      "execution_count": null,
      "outputs": [
        {
          "metadata": {
            "tags": null
          },
          "name": "stdout",
          "output_type": "stream",
          "text": [
            "Epoch 0, Loss: 0.4261\n",
            "Accuracy of Test Data: 93.9000015258789\n"
          ]
        }
      ]
    }
  ]
}